{
 "cells": [
  {
   "cell_type": "code",
   "execution_count": 1,
   "metadata": {},
   "outputs": [],
   "source": [
    "import os\n",
    "import uuid\n",
    "from tqdm import tqdm\n",
    "import itertools\n",
    "\n",
    "import numpy as np\n",
    "import torch\n",
    "from torch.utils.data import Dataset, DataLoader\n",
    "from torchvision.utils import save_image\n",
    "import torchvision.transforms as transforms\n",
    "from torch.autograd import Variable\n",
    "from torch.utils.tensorboard import SummaryWriter\n",
    "import torch.nn as nn\n",
    "import ants\n",
    "\n",
    "\n",
    "from tools.config import Config, read_conf"
   ]
  },
  {
   "cell_type": "code",
   "execution_count": 2,
   "metadata": {},
   "outputs": [],
   "source": [
    "class MRTDataset(Dataset):\n",
    "    def __init__(self, config, health_flg, transform=None):\n",
    "        self.config = config\n",
    "        self.transform = transform\n",
    "        self.person_dict = {}\n",
    "        self.person_list = []\n",
    "        self.health_flg = health_flg\n",
    "        self._init_dataset()\n",
    "\n",
    "    def _init_dataset(self):\n",
    "        max_batch = self.config.train.max_batch if self.health_flg else self.config.test.max_batch\n",
    "        for address, dirs, files in os.walk(os.path.join(\n",
    "                self.config.train_path if self.health_flg else self.config.test_path,\n",
    "                self.config.train_local if self.health_flg else self.config.test_local\n",
    "        )):\n",
    "            for file in files:\n",
    "                if file.endswith(('.nii.gz', '_brain.mha')):\n",
    "                    person = Person(os.path.join(address, file))\n",
    "                    if not self.health_flg:\n",
    "                        person.set_tumor()\n",
    "                    if (not self.config.slice) or (\n",
    "                            isinstance(self.config.slice, int) and self.config.slice >= person.num) or (\n",
    "                            isinstance(self.config.slice, list) and (len(self.config.slice) == 2) and (\n",
    "                            self.config.slice[0] <= person.num < self.config.slice[1])):\n",
    "                        self.person_dict[person.uuid] = person\n",
    "                        self.person_list.append(person)\n",
    "                if len(self.person_list) >= max_batch:\n",
    "                    break\n",
    "            if len(self.person_list) >= max_batch:\n",
    "                break\n",
    "\n",
    "    def __str__(self):\n",
    "        ans = ''\n",
    "        for person in list(self.person_dict.values()):\n",
    "            ans += f'{person.__repr__()}\\n'\n",
    "        return ans[:-1] if ans else ''\n",
    "\n",
    "    def __repr__(self):\n",
    "        ans = ''\n",
    "        for person in list(self.person_dict.values()):\n",
    "            ans += f'{person}\\n'\n",
    "        return ans[:-1] if ans else ''\n",
    "\n",
    "    def __len__(self):\n",
    "        return len(self.person_list)\n",
    "\n",
    "    def __getitem__(self, idx):\n",
    "        if torch.is_tensor(idx):\n",
    "            idx = idx.tolist()\n",
    "        return self.get_person(idx)(self.transform)\n",
    "\n",
    "    def dataloader(self, shuffle=True):\n",
    "        return DataLoader(self,\n",
    "                          batch_size=self.config.train.batch_size if self.health_flg else self.config.test.batch_size,\n",
    "                          shuffle=shuffle)\n",
    "\n",
    "    def get_img_shape(self):\n",
    "        return list(self.get_random()(self.transform).shape) if len(self.person_list) != 0 else 0\n",
    "\n",
    "    def get_random(self):\n",
    "        return np.random.choice(self.person_list, 1)[0]\n",
    "\n",
    "    def get_person(self, idx):\n",
    "        if isinstance(idx, str):\n",
    "            return self.person_dict[idx]\n",
    "        elif isinstance(idx, int):\n",
    "            return self.person_list[idx]\n",
    "        else:\n",
    "            raise TypeError(f'Неверный тип. Хотел: int или str, а получил {idx.__type__}')\n",
    "\n",
    "\n",
    "class Person:\n",
    "    def __init__(self, path):\n",
    "        self.uuid = str(uuid.uuid4())\n",
    "        self.path = path\n",
    "        self.tumor = None\n",
    "        self.name = path.split('/')[-1].split('.')[0]\n",
    "        if self.path.endswith('.nii.gz'):\n",
    "            self.num = int(self.name.split('_')[-1])\n",
    "        if self.path.endswith('.mha'):\n",
    "            self.num = int(self.name.split('_')[0][3:])\n",
    "\n",
    "    def __str__(self):\n",
    "        return f\"{self.uuid}: {self.path}\"\n",
    "\n",
    "    def __repr__(self):\n",
    "        return f\"{self.uuid[:-6]}: {self.name}\"\n",
    "\n",
    "    def get_tumor(self, transform=None):\n",
    "        if self.tumor:\n",
    "            img = ants.image_read(self.tumor)\n",
    "            return transform(img) if transform else img\n",
    "        else:\n",
    "            return None\n",
    "\n",
    "    def set_tumor(self):\n",
    "        self.tumor = f'{self.path[:-10]}_tumor.mha'\n",
    "\n",
    "    def plot(self):\n",
    "        self.get_brain().plot()\n",
    "\n",
    "    def get_brain(self, np_flg=False):\n",
    "        img = ants.image_read(self.path)\n",
    "        return img.numpy() if np_flg else img\n",
    "\n",
    "    def __call__(self, transform=None):\n",
    "        return transform(self.get_brain()) if transform else self.get_brain(np_flg=True).astype(np.float32)"
   ]
  },
  {
   "cell_type": "code",
   "execution_count": 3,
   "metadata": {},
   "outputs": [],
   "source": [
    "def generator(config, train_flg):\n",
    "    trf = []\n",
    "    if config.transforms.norm:\n",
    "        trf.append(ants.iMath_normalize)\n",
    "    if config.transforms.resize:\n",
    "        def resize(obj, img_size=config.transforms.img_size):\n",
    "            return obj.resample_image((img_size, img_size, obj.shape[2]), 1, 0)\n",
    "        trf.append(resize)\n",
    "    trf.append(lambda x: np.flip(x.numpy(), 1).astype(np.float32) if train_flg else x.numpy().astype(np.float32))\n",
    "    if config.transforms.to_tensor:\n",
    "        trf.append(transforms.ToTensor())\n",
    "\n",
    "    dataset = MRTDataset(config=config, health_flg=train_flg, transform=transforms.Compose(trf))\n",
    "\n",
    "    return dataset"
   ]
  },
  {
   "cell_type": "code",
   "execution_count": 4,
   "metadata": {},
   "outputs": [],
   "source": [
    "class AAE():\n",
    "    def __init__(self, config, train_flg=True):\n",
    "        self.config = config.train if train_flg else config.test\n",
    "        self.output = config.result\n",
    "        self.img_shape = config.transforms.img_shape\n",
    "        self.img_shape[0] *= self.config.batch_size\n",
    "        self.cuda = config.cuda and torch.cuda.is_available()\n",
    "        print(f'\\033[3{2 if self.cuda else 1}m[Cuda: {self.cuda}]\\033[0m')\n",
    "        self.Tensor = torch.cuda.FloatTensor if self.cuda else torch.FloatTensor\n",
    "        self.config += {'Tensor': self.Tensor}\n",
    "\n",
    "        # Use binary cross-entropy loss\n",
    "        self.adversarial_loss = torch.nn.BCELoss()\n",
    "        self.pixelwise_loss = torch.nn.L1Loss()\n",
    "\n",
    "        # Initialize generator and discriminator\n",
    "        self.encoder = Encoder(self.config)\n",
    "        self.decoder = Decoder(self.config, self.img_shape)\n",
    "        self.discriminator = Discriminator(self.config)\n",
    "\n",
    "        if self.cuda:\n",
    "            self.encoder.cuda()\n",
    "            self.decoder.cuda()\n",
    "            self.discriminator.cuda()\n",
    "            self.adversarial_loss.cuda()\n",
    "            self.pixelwise_loss.cuda()\n",
    "\n",
    "    def __repr__(self):\n",
    "        return f'cuda: {self.cuda}\\n' + \\\n",
    "               f'config: {self.config}'\n",
    "\n",
    "    def __str__(self):\n",
    "        return f'{self.__repr__()}\\n' + \\\n",
    "               f'{self.encoder}\\n{self.decoder}\\n{self.discriminator}'\n",
    "\n",
    "    def sample_image(self, n_row=5, batches_done='AAE_image'):\n",
    "        z = Variable(self.Tensor(np.random.normal(0, 1, (n_row**2, self.config.latent_dim))))\n",
    "        gen_imgs = self.decoder(z)\n",
    "        save_image(gen_imgs.unsqueeze(1), os.path.join(self.output, f\"{batches_done}.png\"), nrow=n_row, normalize=True)\n",
    "\n",
    "    def train(self, dataset):\n",
    "        # Optimizers\n",
    "        self.optimizer_G = torch.optim.Adam(\n",
    "            itertools.chain(\n",
    "                self.encoder.parameters(),\n",
    "                self.decoder.parameters()\n",
    "            ),\n",
    "            lr=self.config.lr,\n",
    "            betas=(self.config.b1, self.config.b2)\n",
    "        )\n",
    "        self.optimizer_D = torch.optim.Adam(\n",
    "            self.discriminator.parameters(),\n",
    "            lr=self.config.lr,\n",
    "            betas=(self.config.b1, self.config.b2))\n",
    "\n",
    "        # tensorboard callback\n",
    "        self.writer = SummaryWriter(os.path.join(self.output, 'log'))\n",
    "\n",
    "        self.running_loss_g = 0\n",
    "        self.running_loss_d = 0\n",
    "\n",
    "        dataloader = dataset.dataloader()\n",
    "        for epoch in tqdm(range(self.config.n_epochs), total=self.config.n_epochs, desc='Epoch', leave=True):\n",
    "            for batch in tqdm(dataloader, total=len(dataloader), desc='Bath'):\n",
    "\n",
    "                imgs = batch.reshape(-1, self.img_shape[1], self.img_shape[2])\n",
    "                # imgs = batch.permute(0, 3, 1, 2).reshape(-1, self.img_shape[0], self.img_shape[1])\n",
    "                # Adversarial ground truths\n",
    "                valid = Variable(self.Tensor(imgs.shape[0], 1).fill_(1.0), requires_grad=False)\n",
    "                fake = Variable(self.Tensor(imgs.shape[0], 1).fill_(0.0), requires_grad=False)\n",
    "\n",
    "                # Configure input\n",
    "                real_imgs = Variable(imgs.type(self.Tensor))\n",
    "\n",
    "                # -----------------\n",
    "                #  Train Generator\n",
    "                # -----------------\n",
    "\n",
    "                self.optimizer_G.zero_grad()\n",
    "\n",
    "                encoded_imgs = self.encoder(real_imgs)\n",
    "                decoded_imgs = self.decoder(encoded_imgs)\n",
    "\n",
    "                # Loss measures generator's ability to fool the discriminator\n",
    "                g_loss = \\\n",
    "                    0.01 * self.adversarial_loss(self.discriminator(encoded_imgs), valid) + \\\n",
    "                    0.99 * self.pixelwise_loss(decoded_imgs, real_imgs)\n",
    "                g_loss.backward()\n",
    "                self.optimizer_G.step()\n",
    "                self.running_loss_g += g_loss.item()\n",
    "\n",
    "                # ---------------------\n",
    "                #  Train Discriminator\n",
    "                # ---------------------\n",
    "\n",
    "                self.optimizer_D.zero_grad()\n",
    "\n",
    "                # Sample noise as discriminator ground truth\n",
    "                z = Variable(self.Tensor(np.random.normal(0, 1, (imgs.shape[0], self.config.latent_dim))))\n",
    "\n",
    "                # Measure discriminator's ability to classify real from generated samples\n",
    "                real_loss = self.adversarial_loss(self.discriminator(z), valid)\n",
    "                fake_loss = self.adversarial_loss(self.discriminator(encoded_imgs.detach()), fake)\n",
    "                d_loss = 0.5 * (real_loss + fake_loss)\n",
    "\n",
    "                d_loss.backward()\n",
    "                self.optimizer_D.step()\n",
    "                self.running_loss_d += d_loss.item()\n",
    "            self.tensorboard_callback(epoch, len(dataloader))\n",
    "        self.writer.close()\n",
    "\n",
    "    def test(self, dataset, acc=0.3, pre=0.8, idx=None):\n",
    "        ans = [0, 0, None, None]\n",
    "        for idx in tqdm(range(3)):\n",
    "#         for idx in tqdm(range(len(dataset)), desc='Bath'):\n",
    "            test_person = dataset.get_person(idx)\n",
    "            test_tumor_tensor = test_person.get_tumor(transform=dataset.transform).cpu()\n",
    "            test_brain = test_person.get_brain()\n",
    "            test_brain_tensor = Variable(test_person(dataset.transform).type(self.Tensor))\n",
    "            decoded_img = self.decoder(self.encoder(test_brain_tensor)).data.cpu()\n",
    "            mask = ants.get_mask(test_brain)\n",
    "            mask = ants.iMath(mask,'ME',2)\n",
    "            decoded_img *= dataset.transform(mask)\n",
    "            decoded_img = torch.clamp(decoded_img, 0, 1)\n",
    "            restore_tumor = abs(decoded_img - test_brain_tensor.data.cpu())\n",
    "            restore_tumor[restore_tumor < acc] = 0\n",
    "\n",
    "            acc_loss = self.pixelwise_loss.cpu()(decoded_img, test_brain_tensor.data.cpu()).item()\n",
    "            ttn = (test_tumor_tensor != 0).sum().item()\n",
    "            rtn = (restore_tumor != 0).sum().item()\n",
    "            tn = (restore_tumor*test_tumor_tensor != 0).sum().item()\n",
    "            pre_loss = 2*tn/(ttn+rtn) if ttn+rtn else 1\n",
    "            \n",
    "            if pre_loss > ans [0]:\n",
    "                ans[0] = pre_loss\n",
    "                ans[1] = acc_loss\n",
    "                ans[2] = restore_tumor\n",
    "                ans[3] = test_tumor_tensor\n",
    "        return ans\n",
    "\n",
    "    def test_show(self, dataset, acc=0.3, pre=0.8, idx=None):\n",
    "        test_person = dataset.get_person(idx) if idx else dataset.get_random()\n",
    "        test_tumor_tensor = test_person.get_tumor(transform=dataset.transform).cpu()\n",
    "        test_brain = test_person.get_brain()\n",
    "        test_brain_tensor = Variable(test_person(dataset.transform).type(self.Tensor))\n",
    "#         test_brain = test_person.get_brain(np_flg=False)\n",
    "        decoded_img = self.decoder(self.encoder(test_brain_tensor)).data.cpu()\n",
    "        mask = ants.get_mask(test_brain)\n",
    "        mask = ants.iMath(mask,'ME',2)# just to speed things up\n",
    "        # cropped = ants.crop_image(another_brain, mask, 1)\n",
    "        decoded_img *= dataset.transform(mask)\n",
    "        decoded_img = torch.clamp(decoded_img, 0, 1)\n",
    "        restore_tumor = abs(decoded_img - test_brain_tensor.data.cpu())\n",
    "        restore_tumor[restore_tumor < acc] = 0\n",
    "        \n",
    "        acc_loss = self.pixelwise_loss.cpu()(decoded_img, test_brain_tensor.data.cpu()).item()\n",
    "        ttn = (test_tumor_tensor != 0).sum().item()\n",
    "        rtn = (restore_tumor != 0).sum().item()\n",
    "        tn = (restore_tumor*test_tumor_tensor != 0).sum().item()\n",
    "        pre_loss = 2*tn/(ttn+rtn) if ttn+rtn else 1\n",
    "        print(acc_loss, pre_loss)\n",
    "        return restore_tumor, test_tumor_tensor\n",
    "#         decoded_img_np = decoded_img.cpu().detach().permute(1, 2, 0).numpy()\n",
    "\n",
    "    def save(self, save_path):\n",
    "        torch.save(self.encoder.state_dict(), os.path.join(save_path, 'encoder'))\n",
    "        torch.save(self.decoder.state_dict(), os.path.join(save_path, 'decoder'))\n",
    "        torch.save(self.discriminator.state_dict(), os.path.join(save_path, 'discriminator'))\n",
    "\n",
    "    def load(self, load_path):\n",
    "        self.encoder.load_state_dict(torch.load(os.path.join(load_path, 'encoder')))\n",
    "        self.decoder.load_state_dict(torch.load(os.path.join(load_path, 'decoder')))\n",
    "        self.discriminator.load_state_dict(torch.load(os.path.join(load_path, 'discriminator')))\n",
    "\n",
    "    def tensorboard_callback(self, i, dlen):\n",
    "        self.writer.add_scalar('Loss/d_loss', self.running_loss_d / dlen, i)\n",
    "        self.writer.add_scalar('Loss/g_loss', self.running_loss_g / dlen, i)\n",
    "\n",
    "\n",
    "class Encoder(nn.Module):\n",
    "    def __init__(self, config):\n",
    "        super(Encoder, self).__init__()\n",
    "        self.config = config\n",
    "        self.model = nn.Sequential(\n",
    "            nn.Conv2d(1, 64, 4, 2, 1, bias=False),\n",
    "            nn.LeakyReLU(0.2, inplace=True),\n",
    "            nn.Conv2d(64, 128, 4, 2, 1, bias=False),\n",
    "            nn.BatchNorm2d(128),\n",
    "            nn.LeakyReLU(0.2, inplace=True),\n",
    "            nn.Conv2d(128, 256, 4, 2, 1, bias=False),\n",
    "            nn.BatchNorm2d(256),\n",
    "            nn.LeakyReLU(0.2, inplace=True),\n",
    "            nn.Conv2d(256, 512, 4, 2, 1, bias=False),\n",
    "            nn.BatchNorm2d(512),\n",
    "            nn.LeakyReLU(0.2, inplace=True),\n",
    "            nn.Conv2d(512, 512, 4, 1, 0, bias=False),\n",
    "            nn.BatchNorm2d(512),\n",
    "            nn.LeakyReLU(0.2, inplace=True),\n",
    "            nn.Flatten()\n",
    "        )\n",
    "        self.mu = nn.Linear(512, self.config.latent_dim)\n",
    "        self.logvar = nn.Linear(512, self.config.latent_dim)\n",
    "\n",
    "    def forward(self, img):\n",
    "        x = self.model(img.unsqueeze(1))\n",
    "        mu = self.mu(x)\n",
    "        logvar = self.logvar(x)\n",
    "        z = self.reparameterization(mu, logvar)\n",
    "        return z\n",
    "\n",
    "    def reparameterization(self, mu, logvar):\n",
    "        std = torch.exp(logvar / 2)\n",
    "        sampled_z = Variable(self.config.Tensor(np.random.normal(0, 1, (mu.size(0), self.config.latent_dim))))\n",
    "        z = sampled_z * std + mu\n",
    "        return z\n",
    "\n",
    "\n",
    "class Decoder(nn.Module):\n",
    "    def __init__(self, config, img_shape):\n",
    "        super(Decoder, self).__init__()\n",
    "        self.config = config\n",
    "        self.img_shape = img_shape[1:]\n",
    "        \n",
    "        self.model_prep = nn.Sequential(\n",
    "            nn.Linear(self.config.latent_dim, 512),\n",
    "            nn.LeakyReLU(0.2, inplace=True)\n",
    "        )\n",
    "        self.model = nn.Sequential(\n",
    "            nn.ConvTranspose2d(512, 512, 4, 1, 0, bias=False),\n",
    "            nn.BatchNorm2d(512),\n",
    "            nn.ReLU(True),\n",
    "            nn.ConvTranspose2d(512, 256, 4, 2, 1, bias = False),\n",
    "            nn.BatchNorm2d(256),\n",
    "            nn.ReLU(True),\n",
    "            nn.ConvTranspose2d(256, 128, 4, 2, 1, bias = False),\n",
    "            nn.BatchNorm2d(128),\n",
    "            nn.ReLU(True),\n",
    "            nn.ConvTranspose2d(128, 64, 4, 2, 1, bias = False),\n",
    "            nn.BatchNorm2d(64),\n",
    "            nn.ReLU(True),\n",
    "            nn.ConvTranspose2d(64, 1, 4, 2, 1, bias = False),\n",
    "            nn.Tanh()\n",
    "        )        \n",
    "\n",
    "    def forward(self, z):\n",
    "        img_conv = self.model_prep(z).unsqueeze(2).unsqueeze(3)\n",
    "        img = self.model(img_conv).view(-1, *self.img_shape)\n",
    "        return img\n",
    "\n",
    "\n",
    "class Discriminator(nn.Module):\n",
    "    def __init__(self, config):\n",
    "        super(Discriminator, self).__init__()\n",
    "        self.config = config\n",
    "\n",
    "        self.model = nn.Sequential(\n",
    "            nn.Linear(self.config.latent_dim, 512),\n",
    "            nn.LeakyReLU(0.2, inplace=True),\n",
    "            nn.Linear(512, 256),\n",
    "            nn.LeakyReLU(0.2, inplace=True),\n",
    "            nn.Linear(256, 128),\n",
    "            nn.LeakyReLU(0.2, inplace=True),\n",
    "            nn.Linear(128, 1),\n",
    "            nn.Sigmoid()\n",
    "        )\n",
    "\n",
    "    def forward(self, z):\n",
    "        validity = self.model(z)\n",
    "        return validity"
   ]
  },
  {
   "cell_type": "code",
   "execution_count": 5,
   "metadata": {},
   "outputs": [],
   "source": [
    "%%bash\n",
    "ls /root/weights\n",
    "# rm /root/weights/*"
   ]
  },
  {
   "cell_type": "code",
   "execution_count": 6,
   "metadata": {},
   "outputs": [
    {
     "name": "stdout",
     "output_type": "stream",
     "text": [
      "log\n"
     ]
    }
   ],
   "source": [
    "%%bash\n",
    "ls /root/result/\n",
    "# rm /root/result/AAE_image.png\n",
    "# rm /root/result/log/*"
   ]
  },
  {
   "cell_type": "code",
   "execution_count": 7,
   "metadata": {},
   "outputs": [],
   "source": [
    "def train(config, save_path):\n",
    "    config.train.max_batch = 1000\n",
    "    config.train.n_epochs = 250\n",
    "    dataset = generator(config, train_flg=True)\n",
    "    config.transforms += {'img_shape': dataset.get_img_shape()}\n",
    "    model = AAE(config)\n",
    "    model.train(dataset)\n",
    "    model.save(save_path)\n",
    "    model.sample_image()"
   ]
  },
  {
   "cell_type": "code",
   "execution_count": 8,
   "metadata": {},
   "outputs": [],
   "source": [
    "def test(config, load_path):\n",
    "    dataset = generator(config, train_flg=False)\n",
    "    config.transforms += {'img_shape': dataset.get_img_shape()}\n",
    "    model = AAE(config, train_flg=False)\n",
    "    model.load(load_path)\n",
    "    return model.test(dataset)\n",
    "\n",
    "\n",
    "def test_show(config, load_path):\n",
    "    dataset = generator(config, train_flg=False)\n",
    "    config.transforms += {'img_shape': dataset.get_img_shape()}\n",
    "    model = AAE(config, train_flg=False)\n",
    "    model.load(load_path)\n",
    "    return model.test_show(dataset)\n",
    "#     restore_tumor, test_tumor_tensor = model.test_show(dataset)"
   ]
  },
  {
   "cell_type": "code",
   "execution_count": null,
   "metadata": {},
   "outputs": [
    {
     "name": "stdout",
     "output_type": "stream",
     "text": [
      "\u001b[32m[Cuda: True]\u001b[0m\n"
     ]
    },
    {
     "name": "stderr",
     "output_type": "stream",
     "text": [
      "Epoch:   0%|          | 0/250 [00:00<?, ?it/s]\n",
      "Bath:   0%|          | 0/500 [00:00<?, ?it/s]\u001b[A\n",
      "Bath:   0%|          | 1/500 [00:08<1:07:27,  8.11s/it]\u001b[A\n",
      "Bath:   0%|          | 2/500 [00:12<57:20,  6.91s/it]  \u001b[A\n",
      "Bath:   1%|          | 3/500 [00:16<50:58,  6.15s/it]\u001b[A\n",
      "Bath:   1%|          | 4/500 [00:20<45:58,  5.56s/it]\u001b[A\n",
      "Bath:   1%|          | 5/500 [00:25<42:52,  5.20s/it]\u001b[A\n",
      "Bath:   1%|          | 6/500 [00:29<40:28,  4.92s/it]\u001b[A\n",
      "Bath:   1%|▏         | 7/500 [00:33<38:54,  4.73s/it]\u001b[A\n",
      "Bath:   2%|▏         | 8/500 [00:37<37:23,  4.56s/it]\u001b[A\n",
      "Bath:   2%|▏         | 9/500 [00:41<36:13,  4.43s/it]\u001b[A\n",
      "Bath:   2%|▏         | 10/500 [00:46<35:39,  4.37s/it]\u001b[A\n",
      "Bath:   2%|▏         | 11/500 [00:50<34:53,  4.28s/it]\u001b[A\n",
      "Bath:   2%|▏         | 12/500 [00:54<34:08,  4.20s/it]\u001b[A\n",
      "Bath:   3%|▎         | 13/500 [00:58<33:00,  4.07s/it]\u001b[A\n",
      "Bath:   3%|▎         | 14/500 [01:02<33:35,  4.15s/it]\u001b[A\n",
      "Bath:   3%|▎         | 15/500 [01:06<32:52,  4.07s/it]\u001b[A\n",
      "Bath:   3%|▎         | 16/500 [01:10<33:43,  4.18s/it]\u001b[A\n",
      "Bath:   3%|▎         | 17/500 [01:14<33:54,  4.21s/it]\u001b[A\n",
      "Bath:   4%|▎         | 18/500 [01:19<33:33,  4.18s/it]\u001b[A\n",
      "Bath:   4%|▍         | 19/500 [01:23<33:58,  4.24s/it]\u001b[A\n",
      "Bath:   4%|▍         | 20/500 [01:27<33:58,  4.25s/it]\u001b[A\n",
      "Bath:   4%|▍         | 21/500 [01:32<33:58,  4.26s/it]\u001b[A\n",
      "Bath:   4%|▍         | 22/500 [01:36<34:30,  4.33s/it]\u001b[A\n",
      "Bath:   5%|▍         | 23/500 [01:40<34:11,  4.30s/it]\u001b[A\n",
      "Bath:   5%|▍         | 24/500 [01:45<34:07,  4.30s/it]\u001b[A\n",
      "Bath:   5%|▌         | 25/500 [01:49<33:50,  4.27s/it]\u001b[A\n",
      "Bath:   5%|▌         | 26/500 [01:53<33:15,  4.21s/it]\u001b[A\n",
      "Bath:   5%|▌         | 27/500 [01:57<32:31,  4.13s/it]\u001b[A\n",
      "Bath:   6%|▌         | 28/500 [02:01<32:58,  4.19s/it]\u001b[A\n",
      "Bath:   6%|▌         | 29/500 [02:05<32:51,  4.19s/it]\u001b[A\n",
      "Bath:   6%|▌         | 30/500 [02:09<32:42,  4.18s/it]\u001b[A\n",
      "Bath:   6%|▌         | 31/500 [02:14<33:31,  4.29s/it]\u001b[A\n",
      "Bath:   6%|▋         | 32/500 [02:18<33:16,  4.27s/it]\u001b[A\n",
      "Bath:   7%|▋         | 33/500 [02:22<33:05,  4.25s/it]\u001b[A\n",
      "Bath:   7%|▋         | 34/500 [02:27<33:08,  4.27s/it]\u001b[A\n",
      "Bath:   7%|▋         | 35/500 [02:31<32:18,  4.17s/it]\u001b[A\n",
      "Bath:   7%|▋         | 36/500 [02:35<32:18,  4.18s/it]\u001b[A\n",
      "Bath:   7%|▋         | 37/500 [02:39<31:31,  4.08s/it]\u001b[A\n",
      "Bath:   8%|▊         | 38/500 [02:43<31:41,  4.11s/it]\u001b[A\n",
      "Bath:   8%|▊         | 39/500 [02:47<31:31,  4.10s/it]\u001b[A\n",
      "Bath:   8%|▊         | 40/500 [02:51<30:59,  4.04s/it]\u001b[A\n",
      "Bath:   8%|▊         | 41/500 [02:56<32:46,  4.29s/it]\u001b[A\n",
      "Bath:   8%|▊         | 42/500 [03:00<32:44,  4.29s/it]\u001b[A\n",
      "Bath:   9%|▊         | 43/500 [03:04<32:00,  4.20s/it]\u001b[A\n",
      "Bath:   9%|▉         | 44/500 [03:08<32:09,  4.23s/it]\u001b[A\n",
      "Bath:   9%|▉         | 45/500 [03:12<31:37,  4.17s/it]\u001b[A\n",
      "Bath:   9%|▉         | 46/500 [03:16<31:19,  4.14s/it]\u001b[A\n",
      "Bath:   9%|▉         | 47/500 [03:21<31:07,  4.12s/it]\u001b[A\n",
      "Bath:  10%|▉         | 48/500 [03:25<31:12,  4.14s/it]\u001b[A\n",
      "Bath:  10%|▉         | 49/500 [03:29<30:52,  4.11s/it]\u001b[A\n",
      "Bath:  10%|█         | 50/500 [03:33<30:42,  4.10s/it]\u001b[A\n",
      "Bath:  10%|█         | 51/500 [03:37<31:14,  4.18s/it]\u001b[A\n",
      "Bath:  10%|█         | 52/500 [03:41<31:26,  4.21s/it]\u001b[A\n",
      "Bath:  11%|█         | 53/500 [03:45<30:38,  4.11s/it]\u001b[A\n",
      "Bath:  11%|█         | 54/500 [03:50<31:14,  4.20s/it]\u001b[A\n",
      "Bath:  11%|█         | 55/500 [03:54<31:03,  4.19s/it]\u001b[A\n",
      "Bath:  11%|█         | 56/500 [03:58<30:30,  4.12s/it]\u001b[A\n",
      "Bath:  11%|█▏        | 57/500 [04:02<30:39,  4.15s/it]\u001b[A\n",
      "Bath:  12%|█▏        | 58/500 [04:06<30:36,  4.16s/it]\u001b[A\n",
      "Bath:  12%|█▏        | 59/500 [04:10<30:14,  4.11s/it]\u001b[A\n",
      "Bath:  12%|█▏        | 60/500 [04:15<30:40,  4.18s/it]\u001b[A\n",
      "Bath:  12%|█▏        | 61/500 [04:19<30:46,  4.21s/it]\u001b[A\n",
      "Bath:  12%|█▏        | 62/500 [04:23<30:35,  4.19s/it]\u001b[A\n",
      "Bath:  13%|█▎        | 63/500 [04:27<30:20,  4.17s/it]\u001b[A\n",
      "Bath:  13%|█▎        | 64/500 [04:31<29:53,  4.11s/it]\u001b[A\n",
      "Bath:  13%|█▎        | 65/500 [04:35<30:08,  4.16s/it]\u001b[A\n",
      "Bath:  13%|█▎        | 66/500 [04:40<30:01,  4.15s/it]\u001b[A\n",
      "Bath:  13%|█▎        | 67/500 [04:43<29:17,  4.06s/it]\u001b[A\n",
      "Bath:  14%|█▎        | 68/500 [04:47<29:14,  4.06s/it]\u001b[A\n",
      "Bath:  14%|█▍        | 69/500 [04:52<29:17,  4.08s/it]\u001b[A\n",
      "Bath:  14%|█▍        | 70/500 [04:55<28:51,  4.03s/it]\u001b[A\n",
      "Bath:  14%|█▍        | 71/500 [04:59<28:33,  3.99s/it]\u001b[A\n",
      "Bath:  14%|█▍        | 72/500 [05:04<28:56,  4.06s/it]\u001b[A\n",
      "Bath:  15%|█▍        | 73/500 [05:08<28:36,  4.02s/it]\u001b[A\n",
      "Bath:  15%|█▍        | 74/500 [05:12<28:42,  4.04s/it]\u001b[A\n",
      "Bath:  15%|█▌        | 75/500 [05:16<28:46,  4.06s/it]\u001b[A\n",
      "Bath:  15%|█▌        | 76/500 [05:20<28:43,  4.07s/it]\u001b[A\n",
      "Bath:  15%|█▌        | 77/500 [05:24<28:53,  4.10s/it]\u001b[A\n",
      "Bath:  16%|█▌        | 78/500 [05:28<28:58,  4.12s/it]\u001b[A\n",
      "Bath:  16%|█▌        | 79/500 [05:32<29:10,  4.16s/it]\u001b[A\n",
      "Bath:  16%|█▌        | 80/500 [05:36<28:30,  4.07s/it]\u001b[A\n",
      "Bath:  16%|█▌        | 81/500 [05:40<28:23,  4.07s/it]\u001b[A\n",
      "Bath:  16%|█▋        | 82/500 [05:44<28:30,  4.09s/it]\u001b[A\n",
      "Bath:  17%|█▋        | 83/500 [05:49<28:58,  4.17s/it]\u001b[A\n",
      "Bath:  17%|█▋        | 84/500 [05:53<28:22,  4.09s/it]\u001b[A\n",
      "Bath:  17%|█▋        | 85/500 [05:57<28:01,  4.05s/it]\u001b[A\n",
      "Bath:  17%|█▋        | 86/500 [06:00<27:23,  3.97s/it]\u001b[A\n",
      "Bath:  17%|█▋        | 87/500 [06:05<27:34,  4.01s/it]\u001b[A\n",
      "Bath:  18%|█▊        | 88/500 [06:09<27:55,  4.07s/it]\u001b[A\n",
      "Bath:  18%|█▊        | 89/500 [06:13<28:07,  4.11s/it]\u001b[A\n",
      "Bath:  18%|█▊        | 90/500 [06:17<27:32,  4.03s/it]\u001b[A\n",
      "Bath:  18%|█▊        | 91/500 [06:21<26:54,  3.95s/it]\u001b[A\n",
      "Bath:  18%|█▊        | 92/500 [06:25<26:57,  3.96s/it]\u001b[A\n",
      "Bath:  19%|█▊        | 93/500 [06:29<27:09,  4.00s/it]\u001b[A\n",
      "Bath:  19%|█▉        | 94/500 [06:33<27:14,  4.03s/it]\u001b[A\n",
      "Bath:  19%|█▉        | 95/500 [06:37<26:59,  4.00s/it]\u001b[A\n",
      "Bath:  19%|█▉        | 96/500 [06:41<28:27,  4.23s/it]\u001b[A\n",
      "Bath:  19%|█▉        | 97/500 [06:46<28:07,  4.19s/it]\u001b[A\n",
      "Bath:  20%|█▉        | 98/500 [06:49<27:37,  4.12s/it]\u001b[A\n",
      "Bath:  20%|█▉        | 99/500 [06:54<27:22,  4.10s/it]\u001b[A\n",
      "Bath:  20%|██        | 100/500 [06:57<26:58,  4.05s/it]\u001b[A\n",
      "Bath:  20%|██        | 101/500 [07:01<26:49,  4.03s/it]\u001b[A\n",
      "Bath:  20%|██        | 102/500 [07:06<27:06,  4.09s/it]\u001b[A\n",
      "Bath:  21%|██        | 103/500 [07:10<27:09,  4.10s/it]\u001b[A\n",
      "Bath:  21%|██        | 104/500 [07:14<26:48,  4.06s/it]\u001b[A\n",
      "Bath:  21%|██        | 105/500 [07:18<26:38,  4.05s/it]\u001b[A\n",
      "Bath:  21%|██        | 106/500 [07:22<26:19,  4.01s/it]\u001b[A\n",
      "Bath:  21%|██▏       | 107/500 [07:26<26:44,  4.08s/it]\u001b[A\n",
      "Bath:  22%|██▏       | 108/500 [07:30<26:36,  4.07s/it]\u001b[A\n",
      "Bath:  22%|██▏       | 109/500 [07:34<26:42,  4.10s/it]\u001b[A\n",
      "Bath:  22%|██▏       | 110/500 [07:38<26:30,  4.08s/it]\u001b[A\n",
      "Bath:  22%|██▏       | 111/500 [07:42<26:29,  4.09s/it]\u001b[A\n",
      "Bath:  22%|██▏       | 112/500 [07:47<26:50,  4.15s/it]\u001b[A\n",
      "Bath:  23%|██▎       | 113/500 [07:51<26:38,  4.13s/it]\u001b[A\n",
      "Bath:  23%|██▎       | 114/500 [07:55<26:44,  4.16s/it]\u001b[A\n",
      "Bath:  23%|██▎       | 115/500 [07:59<26:18,  4.10s/it]\u001b[A\n",
      "Bath:  23%|██▎       | 116/500 [08:03<26:42,  4.17s/it]\u001b[A\n",
      "Bath:  23%|██▎       | 117/500 [08:07<25:58,  4.07s/it]\u001b[A\n",
      "Bath:  24%|██▎       | 118/500 [08:11<26:26,  4.15s/it]\u001b[A\n",
      "Bath:  24%|██▍       | 119/500 [08:15<26:13,  4.13s/it]\u001b[A\n",
      "Bath:  24%|██▍       | 120/500 [08:19<25:57,  4.10s/it]\u001b[A\n",
      "Bath:  24%|██▍       | 121/500 [08:24<25:47,  4.08s/it]\u001b[A\n",
      "Bath:  24%|██▍       | 122/500 [08:28<26:06,  4.14s/it]\u001b[A\n",
      "Bath:  25%|██▍       | 123/500 [08:32<26:07,  4.16s/it]\u001b[A\n",
      "Bath:  25%|██▍       | 124/500 [08:36<25:49,  4.12s/it]\u001b[A\n",
      "Bath:  25%|██▌       | 125/500 [08:40<25:45,  4.12s/it]\u001b[A\n",
      "Bath:  25%|██▌       | 126/500 [08:44<25:43,  4.13s/it]\u001b[A\n",
      "Bath:  25%|██▌       | 127/500 [08:48<25:15,  4.06s/it]\u001b[A\n",
      "Bath:  26%|██▌       | 128/500 [08:53<26:25,  4.26s/it]\u001b[A\n",
      "Bath:  26%|██▌       | 129/500 [08:57<25:39,  4.15s/it]\u001b[A\n",
      "Bath:  26%|██▌       | 130/500 [09:01<25:15,  4.10s/it]\u001b[A\n",
      "Bath:  26%|██▌       | 131/500 [09:05<25:24,  4.13s/it]\u001b[A\n",
      "Bath:  26%|██▋       | 132/500 [09:09<25:21,  4.14s/it]\u001b[A\n",
      "Bath:  27%|██▋       | 133/500 [09:13<25:16,  4.13s/it]\u001b[A\n",
      "Bath:  27%|██▋       | 134/500 [09:18<25:25,  4.17s/it]\u001b[A\n",
      "Bath:  27%|██▋       | 135/500 [09:22<25:11,  4.14s/it]\u001b[A\n",
      "Bath:  27%|██▋       | 136/500 [09:26<24:38,  4.06s/it]\u001b[A\n",
      "Bath:  27%|██▋       | 137/500 [09:30<24:29,  4.05s/it]\u001b[A\n",
      "Bath:  28%|██▊       | 138/500 [09:33<23:48,  3.95s/it]\u001b[A\n",
      "Bath:  28%|██▊       | 139/500 [09:37<24:02,  4.00s/it]\u001b[A\n"
     ]
    },
    {
     "name": "stderr",
     "output_type": "stream",
     "text": [
      "Bath:  28%|██▊       | 140/500 [09:41<24:13,  4.04s/it]\u001b[A\n",
      "Bath:  28%|██▊       | 141/500 [09:46<24:13,  4.05s/it]\u001b[A\n",
      "Bath:  28%|██▊       | 142/500 [09:50<24:34,  4.12s/it]\u001b[A\n",
      "Bath:  29%|██▊       | 143/500 [09:54<24:44,  4.16s/it]\u001b[A\n",
      "Bath:  29%|██▉       | 144/500 [09:58<24:54,  4.20s/it]\u001b[A\n",
      "Bath:  29%|██▉       | 145/500 [10:02<24:23,  4.12s/it]\u001b[A\n",
      "Bath:  29%|██▉       | 146/500 [10:06<24:05,  4.08s/it]\u001b[A\n",
      "Bath:  29%|██▉       | 147/500 [10:10<23:49,  4.05s/it]\u001b[A\n",
      "Bath:  30%|██▉       | 148/500 [10:14<23:52,  4.07s/it]\u001b[A\n",
      "Bath:  30%|██▉       | 149/500 [10:18<23:40,  4.05s/it]\u001b[A\n",
      "Bath:  30%|███       | 150/500 [10:22<23:22,  4.01s/it]\u001b[A\n",
      "Bath:  30%|███       | 151/500 [10:26<23:07,  3.98s/it]\u001b[A\n",
      "Bath:  30%|███       | 152/500 [10:30<22:52,  3.94s/it]\u001b[A\n",
      "Bath:  31%|███       | 153/500 [10:34<22:49,  3.95s/it]\u001b[A\n",
      "Bath:  31%|███       | 154/500 [10:38<23:10,  4.02s/it]\u001b[A\n",
      "Bath:  31%|███       | 155/500 [10:42<23:05,  4.02s/it]\u001b[A\n",
      "Bath:  31%|███       | 156/500 [10:46<22:44,  3.97s/it]\u001b[A\n",
      "Bath:  31%|███▏      | 157/500 [10:50<22:43,  3.98s/it]\u001b[A\n",
      "Bath:  32%|███▏      | 158/500 [10:54<22:43,  3.99s/it]\u001b[A\n",
      "Bath:  32%|███▏      | 159/500 [10:58<22:47,  4.01s/it]\u001b[A\n",
      "Bath:  32%|███▏      | 160/500 [11:02<22:58,  4.05s/it]\u001b[A\n",
      "Bath:  32%|███▏      | 161/500 [11:06<22:40,  4.01s/it]\u001b[A\n",
      "Bath:  32%|███▏      | 162/500 [11:10<22:31,  4.00s/it]\u001b[A\n",
      "Bath:  33%|███▎      | 163/500 [11:14<22:18,  3.97s/it]\u001b[A\n",
      "Bath:  33%|███▎      | 164/500 [11:18<22:31,  4.02s/it]\u001b[A\n",
      "Bath:  33%|███▎      | 165/500 [11:23<22:52,  4.10s/it]\u001b[A\n",
      "Bath:  33%|███▎      | 166/500 [11:27<22:41,  4.07s/it]\u001b[A"
     ]
    }
   ],
   "source": [
    "config = read_conf(f'/root/cAAE/config/config_test.json')\n",
    "save_path = '/root/weights'\n",
    "train(config, save_path)"
   ]
  },
  {
   "cell_type": "code",
   "execution_count": null,
   "metadata": {},
   "outputs": [],
   "source": []
  },
  {
   "cell_type": "code",
   "execution_count": null,
   "metadata": {},
   "outputs": [],
   "source": []
  },
  {
   "cell_type": "code",
   "execution_count": null,
   "metadata": {},
   "outputs": [],
   "source": []
  },
  {
   "cell_type": "code",
   "execution_count": 220,
   "metadata": {
    "scrolled": false
   },
   "outputs": [
    {
     "name": "stdout",
     "output_type": "stream",
     "text": [
      "\u001b[32m[Cuda: True]\u001b[0m\n",
      "0.047461189329624176 0.3542429366473495\n"
     ]
    }
   ],
   "source": [
    "config = read_conf(f'/root/cAAE/config/config_test.json')\n",
    "load_path = '/root/weights'\n",
    "restore_tumor, test_tumor_tensor = test_show(config, load_path)"
   ]
  },
  {
   "cell_type": "code",
   "execution_count": 9,
   "metadata": {},
   "outputs": [],
   "source": [
    "for i in dataset:\n",
    "    ll = i\n",
    "    break"
   ]
  },
  {
   "cell_type": "code",
   "execution_count": 18,
   "metadata": {},
   "outputs": [
    {
     "name": "stdout",
     "output_type": "stream",
     "text": [
      "torch.Size([155, 64, 64])\n"
     ]
    },
    {
     "data": {
      "text/plain": [
       "torch.Size([155, 1, 64, 64])"
      ]
     },
     "execution_count": 18,
     "metadata": {},
     "output_type": "execute_result"
    }
   ],
   "source": [
    "print(ll.shape)\n",
    "lll = ll.unsqueeze(1)\n",
    "lll.shape"
   ]
  },
  {
   "cell_type": "code",
   "execution_count": null,
   "metadata": {},
   "outputs": [],
   "source": [
    "model_enc = nn.Sequential(\n",
    "    nn.Conv2d(1, 64, 4, 2, 1, bias=False),\n",
    "    nn.LeakyReLU(0.2, inplace=True),\n",
    "    nn.Conv2d(64, 32, 4, 2, 1, bias=False),\n",
    "    nn.BatchNorm2d(32),\n",
    "    nn.LeakyReLU(0.2, inplace=True),\n",
    "    nn.Conv2d(32, 16, 4, 2, 1, bias=False),\n",
    "    nn.BatchNorm2d(16),\n",
    "    nn.LeakyReLU(0.2, inplace=True),\n",
    "    nn.Conv2d(16, 8, 4, 2, 1, bias=False),\n",
    "    nn.BatchNorm2d(8),\n",
    "    nn.LeakyReLU(0.2, inplace=True),\n",
    "    nn.Conv2d(8, 2, 4, 1, 0, bias=False),\n",
    "    nn.BatchNorm2d(2),\n",
    "    nn.LeakyReLU(0.2, inplace=True),\n",
    "    nn.Flatten()\n",
    ")\n",
    "rr = model_enc(lll)\n",
    "rr.shape"
   ]
  },
  {
   "cell_type": "code",
   "execution_count": 97,
   "metadata": {},
   "outputs": [
    {
     "data": {
      "text/plain": [
       "torch.Size([155, 100])"
      ]
     },
     "execution_count": 97,
     "metadata": {},
     "output_type": "execute_result"
    }
   ],
   "source": [
    "model_enc = nn.Sequential(\n",
    "    nn.Conv2d(1, 64, 4, 2, 1, bias=False),\n",
    "    nn.LeakyReLU(0.2, inplace=True),\n",
    "    nn.Conv2d(64, 128, 4, 2, 1, bias=False),\n",
    "    nn.BatchNorm2d(128),\n",
    "    nn.LeakyReLU(0.2, inplace=True),\n",
    "    nn.Conv2d(128, 256, 4, 2, 1, bias=False),\n",
    "    nn.BatchNorm2d(256),\n",
    "    nn.LeakyReLU(0.2, inplace=True),\n",
    "    nn.Conv2d(256, 512, 4, 2, 1, bias=False),\n",
    "    nn.BatchNorm2d(512),\n",
    "    nn.LeakyReLU(0.2, inplace=True),\n",
    "    nn.Conv2d(512, 512, 4, 1, 0, bias=False),\n",
    "    nn.BatchNorm2d(512),\n",
    "    nn.LeakyReLU(0.2, inplace=True),\n",
    "    nn.Flatten(),\n",
    "    nn.Linear(512, 100)\n",
    ")\n",
    "rr = model_enc(lll)\n",
    "rr.shape"
   ]
  },
  {
   "cell_type": "code",
   "execution_count": 98,
   "metadata": {},
   "outputs": [
    {
     "data": {
      "text/plain": [
       "torch.Size([155, 1])"
      ]
     },
     "execution_count": 98,
     "metadata": {},
     "output_type": "execute_result"
    }
   ],
   "source": [
    "model_dd = nn.Sequential(\n",
    "    nn.Linear(100, 512),\n",
    "    nn.LeakyReLU(0.2, inplace=True),\n",
    "    nn.Linear(512, 256),\n",
    "    nn.LeakyReLU(0.2, inplace=True),\n",
    "    nn.Linear(256, 1),\n",
    "    nn.Sigmoid(),\n",
    ")\n",
    "model_dd(rr).shape"
   ]
  },
  {
   "cell_type": "code",
   "execution_count": 79,
   "metadata": {},
   "outputs": [
    {
     "name": "stdout",
     "output_type": "stream",
     "text": [
      "torch.Size([155, 512]) torch.Size([155, 512, 1, 1])\n",
      "torch.Size([155, 64, 64])\n"
     ]
    }
   ],
   "source": [
    "model_d = nn.Sequential(\n",
    "    nn.Linear(100, 512),\n",
    "    nn.LeakyReLU(0.2, inplace=True)\n",
    ")\n",
    "model_dec = nn.Sequential(\n",
    "    nn.ConvTranspose2d(512, 512, 4, 1, 0, bias=False),\n",
    "    nn.BatchNorm2d(512),\n",
    "    nn.ReLU(True),\n",
    "    nn.ConvTranspose2d(512, 256, 4, 2, 1, bias = False),\n",
    "    nn.BatchNorm2d(256),\n",
    "    nn.ReLU(True),\n",
    "    nn.ConvTranspose2d(256, 128, 4, 2, 1, bias = False),\n",
    "    nn.BatchNorm2d(128),\n",
    "    nn.ReLU(True),\n",
    "    nn.ConvTranspose2d(128, 64, 4, 2, 1, bias = False),\n",
    "    nn.BatchNorm2d(64),\n",
    "    nn.ReLU(True),\n",
    "    nn.ConvTranspose2d(64, 1, 4, 2, 1, bias = False),\n",
    "    nn.Tanh()\n",
    ")\n",
    "rrr = model_d(rr)\n",
    "print(rrr.shape, rrr.unsqueeze(2).unsqueeze(3).shape)\n",
    "rre = model_dec(rrr.unsqueeze(2).unsqueeze(3))\n",
    "print(rre.view(-1, rre.shape[2], rre.shape[3]).shape)\n"
   ]
  },
  {
   "cell_type": "code",
   "execution_count": 59,
   "metadata": {},
   "outputs": [
    {
     "data": {
      "text/plain": [
       "torch.Size([155, 16, 60, 60])"
      ]
     },
     "execution_count": 59,
     "metadata": {},
     "output_type": "execute_result"
    }
   ],
   "source": [
    "nn.Conv2d(1, 16, kernel_size=5)(lll).shape"
   ]
  },
  {
   "cell_type": "code",
   "execution_count": 38,
   "metadata": {},
   "outputs": [
    {
     "data": {
      "text/plain": [
       "torch.Size([155, 16, 32, 32])"
      ]
     },
     "execution_count": 38,
     "metadata": {},
     "output_type": "execute_result"
    }
   ],
   "source": []
  },
  {
   "cell_type": "code",
   "execution_count": null,
   "metadata": {},
   "outputs": [],
   "source": [
    "nn.Conv2d(1, 16, kernel_size=5),\n",
    "            nn.BatchNorm2d(16, 0.8),\n",
    "            nn.PReLU(),\n",
    "            nn.Conv2d(16, 32, kernel_size=3),\n",
    "            nn.BatchNorm2d(32, 0.8),\n",
    "            nn.Linear(32, 512),\n",
    "            nn.LeakyReLU(0.2, inplace=True),\n",
    "            nn.Linear(512, 512),\n",
    "            nn.BatchNorm1d(512),\n",
    "            nn.LeakyReLU(0.2, inplace=True),\n",
    "        )"
   ]
  },
  {
   "cell_type": "code",
   "execution_count": null,
   "metadata": {},
   "outputs": [],
   "source": []
  },
  {
   "cell_type": "code",
   "execution_count": null,
   "metadata": {},
   "outputs": [],
   "source": []
  },
  {
   "cell_type": "code",
   "execution_count": null,
   "metadata": {},
   "outputs": [],
   "source": []
  },
  {
   "cell_type": "code",
   "execution_count": null,
   "metadata": {},
   "outputs": [],
   "source": []
  },
  {
   "cell_type": "code",
   "execution_count": 230,
   "metadata": {},
   "outputs": [
    {
     "name": "stderr",
     "output_type": "stream",
     "text": [
      "\n",
      "\n",
      "\n",
      "  0%|          | 0/3 [00:00<?, ?it/s]\u001b[A\u001b[A\u001b[A"
     ]
    },
    {
     "name": "stdout",
     "output_type": "stream",
     "text": [
      "\u001b[32m[Cuda: True]\u001b[0m\n"
     ]
    },
    {
     "name": "stderr",
     "output_type": "stream",
     "text": [
      "\n",
      "\n",
      "\n",
      " 33%|███▎      | 1/3 [00:09<00:19,  9.62s/it]\u001b[A\u001b[A\u001b[A\n",
      "\n",
      "\n",
      " 67%|██████▋   | 2/3 [00:19<00:09,  9.61s/it]\u001b[A\u001b[A\u001b[A\n",
      "\n",
      "\n",
      "100%|██████████| 3/3 [00:28<00:00,  9.59s/it]\u001b[A\u001b[A\u001b[A"
     ]
    }
   ],
   "source": [
    "config = read_conf(f'/root/cAAE/config/config_test.json')\n",
    "load_path = '/root/weights'\n",
    "ans = test(config, load_path)"
   ]
  },
  {
   "cell_type": "code",
   "execution_count": 233,
   "metadata": {},
   "outputs": [
    {
     "name": "stdout",
     "output_type": "stream",
     "text": [
      "[0.354839768846861, 0.04760142043232918]\n"
     ]
    },
    {
     "data": {
      "text/plain": [
       "torch.Size([155, 64, 64])"
      ]
     },
     "execution_count": 233,
     "metadata": {},
     "output_type": "execute_result"
    }
   ],
   "source": [
    "print(ans[:2])\n",
    "ans[2].shape"
   ]
  },
  {
   "cell_type": "code",
   "execution_count": 234,
   "metadata": {},
   "outputs": [
    {
     "data": {
      "text/plain": [
       "<matplotlib.image.AxesImage at 0x7fe8d4593518>"
      ]
     },
     "execution_count": 234,
     "metadata": {},
     "output_type": "execute_result"
    },
    {
     "data": {
      "image/png": "[encoded data removed]",
      "text/plain": [
       "<Figure size 432x288 with 1 Axes>"
      ]
     },
     "metadata": {
      "needs_background": "light"
     },
     "output_type": "display_data"
    }
   ],
   "source": [
    "plt.imshow(ans[2][100, :, :])"
   ]
  },
  {
   "cell_type": "code",
   "execution_count": 235,
   "metadata": {},
   "outputs": [
    {
     "data": {
      "text/plain": [
       "<matplotlib.image.AxesImage at 0x7fe8d41d0828>"
      ]
     },
     "execution_count": 235,
     "metadata": {},
     "output_type": "execute_result"
    },
    {
     "data": {
      "image/png": "[encoded data removed]",
      "text/plain": [
       "<Figure size 432x288 with 1 Axes>"
      ]
     },
     "metadata": {
      "needs_background": "light"
     },
     "output_type": "display_data"
    }
   ],
   "source": [
    "plt.imshow(ans[3][100, :, :])"
   ]
  },
  {
   "cell_type": "code",
   "execution_count": 69,
   "metadata": {},
   "outputs": [],
   "source": [
    "import matplotlib.pyplot as plt"
   ]
  },
  {
   "cell_type": "code",
   "execution_count": 78,
   "metadata": {},
   "outputs": [
    {
     "data": {
      "text/plain": [
       "<matplotlib.image.AxesImage at 0x7fe8fc38cc18>"
      ]
     },
     "execution_count": 78,
     "metadata": {},
     "output_type": "execute_result"
    },
    {
     "data": {
      "image/png": "[encoded data removed]",
      "text/plain": [
       "<Figure size 432x288 with 1 Axes>"
      ]
     },
     "metadata": {
      "needs_background": "light"
     },
     "output_type": "display_data"
    }
   ],
   "source": [
    "plt.imshow(k[0, :, 32, :])"
   ]
  },
  {
   "cell_type": "code",
   "execution_count": 77,
   "metadata": {},
   "outputs": [
    {
     "data": {
      "text/plain": [
       "<matplotlib.image.AxesImage at 0x7fe90405e0b8>"
      ]
     },
     "execution_count": 77,
     "metadata": {},
     "output_type": "execute_result"
    },
    {
     "data": {
      "image/png": "[encoded data removed]",
      "text/plain": [
       "<Figure size 432x288 with 1 Axes>"
      ]
     },
     "metadata": {
      "needs_background": "light"
     },
     "output_type": "display_data"
    }
   ],
   "source": [
    "plt.imshow(test_brain[:, 32, :])"
   ]
  },
  {
   "cell_type": "code",
   "execution_count": null,
   "metadata": {},
   "outputs": [],
   "source": []
  },
  {
   "cell_type": "code",
   "execution_count": 68,
   "metadata": {},
   "outputs": [
    {
     "data": {
      "text/plain": [
       "torch.Size([2, 260, 64, 64])"
      ]
     },
     "execution_count": 68,
     "metadata": {},
     "output_type": "execute_result"
    }
   ],
   "source": []
  },
  {
   "cell_type": "code",
   "execution_count": null,
   "metadata": {},
   "outputs": [],
   "source": [
    "config = read_conf(f'/root/cAAE/config/config_test.json')\n",
    "save_path = '/root/weights'\n",
    "train(config, save_path)"
   ]
  },
  {
   "cell_type": "code",
   "execution_count": 42,
   "metadata": {},
   "outputs": [],
   "source": [
    "%%bash\n",
    "ls /root/result/\n",
    "# rm /root/result/AAE_image.png"
   ]
  },
  {
   "cell_type": "code",
   "execution_count": 44,
   "metadata": {},
   "outputs": [
    {
     "ename": "TypeError",
     "evalue": "generator() got an unexpected keyword argument 'health_flg'",
     "output_type": "error",
     "traceback": [
      "\u001b[0;31m---------------------------------------------------------------------------\u001b[0m",
      "\u001b[0;31mTypeError\u001b[0m                                 Traceback (most recent call last)",
      "\u001b[0;32m<ipython-input-44-634ec67df01a>\u001b[0m in \u001b[0;36m<module>\u001b[0;34m\u001b[0m\n\u001b[1;32m      1\u001b[0m \u001b[0mconfig\u001b[0m \u001b[0;34m=\u001b[0m \u001b[0mread_conf\u001b[0m\u001b[0;34m(\u001b[0m\u001b[0;34mf'/root/cAAE/config/config_test.json'\u001b[0m\u001b[0;34m)\u001b[0m\u001b[0;34m\u001b[0m\u001b[0;34m\u001b[0m\u001b[0m\n\u001b[1;32m      2\u001b[0m \u001b[0mload_path\u001b[0m \u001b[0;34m=\u001b[0m \u001b[0;34m'/root/weights'\u001b[0m\u001b[0;34m\u001b[0m\u001b[0;34m\u001b[0m\u001b[0m\n\u001b[0;32m----> 3\u001b[0;31m \u001b[0mtest_show\u001b[0m\u001b[0;34m(\u001b[0m\u001b[0mconfig\u001b[0m\u001b[0;34m,\u001b[0m \u001b[0mload_path\u001b[0m\u001b[0;34m)\u001b[0m\u001b[0;34m\u001b[0m\u001b[0;34m\u001b[0m\u001b[0m\n\u001b[0m",
      "\u001b[0;32m<ipython-input-43-befb39958665>\u001b[0m in \u001b[0;36mtest_show\u001b[0;34m(config, load_path)\u001b[0m\n\u001b[1;32m      8\u001b[0m \u001b[0;34m\u001b[0m\u001b[0m\n\u001b[1;32m      9\u001b[0m \u001b[0;32mdef\u001b[0m \u001b[0mtest_show\u001b[0m\u001b[0;34m(\u001b[0m\u001b[0mconfig\u001b[0m\u001b[0;34m,\u001b[0m \u001b[0mload_path\u001b[0m\u001b[0;34m)\u001b[0m\u001b[0;34m:\u001b[0m\u001b[0;34m\u001b[0m\u001b[0;34m\u001b[0m\u001b[0m\n\u001b[0;32m---> 10\u001b[0;31m     \u001b[0mdataset\u001b[0m\u001b[0;34m,\u001b[0m \u001b[0mimg_shape\u001b[0m \u001b[0;34m=\u001b[0m \u001b[0mgenerator\u001b[0m\u001b[0;34m(\u001b[0m\u001b[0mconfig\u001b[0m\u001b[0;34m,\u001b[0m \u001b[0mhealth_flg\u001b[0m\u001b[0;34m=\u001b[0m\u001b[0;32mFalse\u001b[0m\u001b[0;34m)\u001b[0m\u001b[0;34m\u001b[0m\u001b[0;34m\u001b[0m\u001b[0m\n\u001b[0m\u001b[1;32m     11\u001b[0m     \u001b[0mconfig\u001b[0m\u001b[0;34m.\u001b[0m\u001b[0mtransforms\u001b[0m \u001b[0;34m+=\u001b[0m \u001b[0;34m{\u001b[0m\u001b[0;34m'img_shape'\u001b[0m\u001b[0;34m:\u001b[0m \u001b[0mdataset\u001b[0m\u001b[0;34m.\u001b[0m\u001b[0mget_img_shape\u001b[0m\u001b[0;34m(\u001b[0m\u001b[0;34m)\u001b[0m\u001b[0;34m}\u001b[0m\u001b[0;34m\u001b[0m\u001b[0;34m\u001b[0m\u001b[0m\n\u001b[1;32m     12\u001b[0m     \u001b[0mmodel\u001b[0m \u001b[0;34m=\u001b[0m \u001b[0mAAE\u001b[0m\u001b[0;34m(\u001b[0m\u001b[0mconfig\u001b[0m\u001b[0;34m,\u001b[0m \u001b[0mtrain_flg\u001b[0m\u001b[0;34m=\u001b[0m\u001b[0;32mFalse\u001b[0m\u001b[0;34m)\u001b[0m\u001b[0;34m\u001b[0m\u001b[0;34m\u001b[0m\u001b[0m\n",
      "\u001b[0;31mTypeError\u001b[0m: generator() got an unexpected keyword argument 'health_flg'"
     ]
    }
   ],
   "source": []
  },
  {
   "cell_type": "code",
   "execution_count": null,
   "metadata": {},
   "outputs": [],
   "source": []
  }
 ],
 "metadata": {
  "kernelspec": {
   "display_name": "Python 3",
   "language": "python",
   "name": "python3"
  },
  "language_info": {
   "codemirror_mode": {
    "name": "ipython",
    "version": 3
   },
   "file_extension": ".py",
   "mimetype": "text/x-python",
   "name": "python",
   "nbconvert_exporter": "python",
   "pygments_lexer": "ipython3",
   "version": "3.6.9"
  }
 },
 "nbformat": 4,
 "nbformat_minor": 2
}
