{
 "cells": [
  {
   "cell_type": "code",
   "execution_count": 1,
   "metadata": {},
   "outputs": [],
   "source": [
    "%matplotlib notebook\n",
    "import os, sys\n",
    "from matplotlib import pyplot\n",
    "from sklearn.metrics import roc_curve, roc_auc_score\n",
    "\n",
    "sys.path.append('/root/cAAE')\n",
    "from model.tools.config import Config, read_conf\n",
    "from model.generator import generator, net\n",
    "\n",
    "import torch\n",
    "torch.backends.cudnn.benchmark=True\n",
    "\n",
    "config = read_conf(f'/root/cAAE/config/{os.environ[\"CONFIG_NAME\"]}.json')"
   ]
  },
  {
   "cell_type": "markdown",
   "metadata": {},
   "source": [
    "Первым делом получим датасет для теста. Регулируя `config.test.max_batch`, можно менять размер датасета"
   ]
  },
  {
   "cell_type": "code",
   "execution_count": 2,
   "metadata": {},
   "outputs": [
    {
     "name": "stdout",
     "output_type": "stream",
     "text": [
      "\u001b[32m[Cuda: True]\u001b[0m\n"
     ]
    }
   ],
   "source": [
    "config.struct.name = 'ResDCGAN'\n",
    "config.train.max_batch = 1000\n",
    "config.train.batch_size = 16\n",
    "config.train.n_epochs=200\n",
    "dataset = generator(config, train_flg=True)\n",
    "config.transforms += {'img_shape': dataset.get_img_shape()}\n",
    "model = net[config.struct.name](config)\n",
    "if model.cuda_flg:\n",
    "    model.cuda()"
   ]
  },
  {
   "cell_type": "markdown",
   "metadata": {},
   "source": [
    "Ну и учим саму сетку"
   ]
  },
  {
   "cell_type": "code",
   "execution_count": 3,
   "metadata": {},
   "outputs": [
    {
     "name": "stderr",
     "output_type": "stream",
     "text": [
      "Epoch:   0%|          | 0/2 [00:00<?, ?it/s]\n",
      "Bath:   0%|          | 0/3 [00:00<?, ?it/s]\u001b[A\n",
      "Bath:  33%|███▎      | 1/3 [00:08<00:17,  8.63s/it]\u001b[A\n",
      "Bath:  67%|██████▋   | 2/3 [00:15<00:08,  8.03s/it]\u001b[A\n",
      "Epoch:  50%|█████     | 1/2 [00:18<00:18, 19.00s/it][A\n",
      "Bath:   0%|          | 0/3 [00:00<?, ?it/s]\u001b[A\n",
      "Bath:  33%|███▎      | 1/3 [00:06<00:13,  6.63s/it]\u001b[A\n",
      "Bath:  67%|██████▋   | 2/3 [00:13<00:06,  6.64s/it]\u001b[A\n",
      "Epoch: 100%|██████████| 2/2 [00:35<00:00, 18.28s/it][A\n"
     ]
    }
   ],
   "source": [
    "model.train(dataset)\n",
    "save_path = '/root/weights'\n",
    "model.save(save_path)"
   ]
  },
  {
   "cell_type": "markdown",
   "metadata": {},
   "source": [
    "Сгенерируем изображение"
   ]
  },
  {
   "cell_type": "code",
   "execution_count": 4,
   "metadata": {},
   "outputs": [],
   "source": [
    "model.sample_image()"
   ]
  },
  {
   "cell_type": "code",
   "execution_count": null,
   "metadata": {},
   "outputs": [],
   "source": []
  }
 ],
 "metadata": {
  "kernelspec": {
   "display_name": "Python 3",
   "language": "python",
   "name": "python3"
  },
  "language_info": {
   "codemirror_mode": {
    "name": "ipython",
    "version": 3
   },
   "file_extension": ".py",
   "mimetype": "text/x-python",
   "name": "python",
   "nbconvert_exporter": "python",
   "pygments_lexer": "ipython3",
   "version": "3.6.9"
  }
 },
 "nbformat": 4,
 "nbformat_minor": 2
}
