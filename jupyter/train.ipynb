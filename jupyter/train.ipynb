{
 "cells": [
  {
   "cell_type": "code",
   "execution_count": 1,
   "metadata": {},
   "outputs": [],
   "source": [
    "%matplotlib notebook\n",
    "import os, sys\n",
    "import numpy as np\n",
    "import matplotlib.pyplot as plt\n",
    "from tqdm import tqdm\n",
    "sys.path.append('/root/cAAE')\n",
    "\n",
    "import torch.nn as nn\n",
    "import torch\n",
    "from torch.autograd import Variable\n",
    "\n",
    "from model.tools.config import Config, read_conf\n",
    "from model.train import train\n",
    "from model.test import test, test_show\n",
    "config = read_conf(f'/root/cAAE/config/{os.environ[\"CONFIG_NAME\"]}.json')"
   ]
  },
  {
   "cell_type": "code",
   "execution_count": null,
   "metadata": {},
   "outputs": [
    {
     "name": "stdout",
     "output_type": "stream",
     "text": [
      "\u001b[32m[Cuda: True]\u001b[0m\n"
     ]
    },
    {
     "name": "stderr",
     "output_type": "stream",
     "text": [
      "Epoch:   0%|          | 0/150 [00:00<?, ?it/s]\n",
      "Bath:   0%|          | 0/50 [00:00<?, ?it/s]\u001b[A\n",
      "Bath:   2%|▏         | 1/50 [00:06<04:57,  6.07s/it]\u001b[A\n",
      "Bath:   4%|▍         | 2/50 [00:10<04:26,  5.55s/it]\u001b[A\n",
      "Bath:   6%|▌         | 3/50 [00:14<03:57,  5.05s/it]\u001b[A\n",
      "Bath:   8%|▊         | 4/50 [00:18<03:38,  4.76s/it]\u001b[A\n",
      "Bath:  10%|█         | 5/50 [00:22<03:27,  4.62s/it]\u001b[A\n",
      "Bath:  12%|█▏        | 6/50 [00:26<03:18,  4.52s/it]\u001b[A\n",
      "Bath:  14%|█▍        | 7/50 [00:31<03:09,  4.40s/it]\u001b[A\n",
      "Bath:  16%|█▌        | 8/50 [00:35<03:00,  4.29s/it]\u001b[A\n",
      "Bath:  18%|█▊        | 9/50 [00:39<02:53,  4.23s/it]\u001b[A\n",
      "Bath:  20%|██        | 10/50 [00:43<02:45,  4.13s/it]\u001b[A\n",
      "Bath:  22%|██▏       | 11/50 [00:46<02:38,  4.06s/it]\u001b[A\n",
      "Bath:  24%|██▍       | 12/50 [00:50<02:33,  4.04s/it]\u001b[A\n",
      "Bath:  26%|██▌       | 13/50 [00:55<02:31,  4.09s/it]\u001b[A\n",
      "Bath:  28%|██▊       | 14/50 [00:59<02:27,  4.09s/it]\u001b[A\n",
      "Bath:  30%|███       | 15/50 [01:03<02:22,  4.07s/it]\u001b[A\n",
      "Bath:  32%|███▏      | 16/50 [01:07<02:17,  4.05s/it]\u001b[A\n",
      "Bath:  34%|███▍      | 17/50 [01:11<02:15,  4.12s/it]\u001b[A\n",
      "Bath:  36%|███▌      | 18/50 [01:15<02:10,  4.09s/it]\u001b[A\n",
      "Bath:  38%|███▊      | 19/50 [01:19<02:06,  4.09s/it]\u001b[A\n",
      "Bath:  40%|████      | 20/50 [01:23<02:03,  4.11s/it]\u001b[A\n",
      "Bath:  42%|████▏     | 21/50 [01:27<01:58,  4.07s/it]\u001b[A\n",
      "Bath:  44%|████▍     | 22/50 [01:31<01:52,  4.03s/it]\u001b[A\n",
      "Bath:  46%|████▌     | 23/50 [01:35<01:48,  4.01s/it]\u001b[A\n",
      "Bath:  48%|████▊     | 24/50 [01:40<01:46,  4.10s/it]\u001b[A\n",
      "Bath:  50%|█████     | 25/50 [01:44<01:43,  4.15s/it]\u001b[A"
     ]
    }
   ],
   "source": [
    "save_path = '/root/weights'\n",
    "config.train.max_batch = 100\n",
    "config.train.n_epochs = 150\n",
    "train(config, save_path)"
   ]
  },
  {
   "cell_type": "code",
   "execution_count": null,
   "metadata": {},
   "outputs": [],
   "source": [
    "load_path = '/root/weights'\n",
    "test(config, load_path)"
   ]
  },
  {
   "cell_type": "code",
   "execution_count": null,
   "metadata": {},
   "outputs": [],
   "source": [
    "test_show(config, load_path)"
   ]
  },
  {
   "cell_type": "code",
   "execution_count": null,
   "metadata": {},
   "outputs": [],
   "source": []
  }
 ],
 "metadata": {
  "kernelspec": {
   "display_name": "Python 3",
   "language": "python",
   "name": "python3"
  },
  "language_info": {
   "codemirror_mode": {
    "name": "ipython",
    "version": 3
   },
   "file_extension": ".py",
   "mimetype": "text/x-python",
   "name": "python",
   "nbconvert_exporter": "python",
   "pygments_lexer": "ipython3",
   "version": "3.6.9"
  }
 },
 "nbformat": 4,
 "nbformat_minor": 2
}
